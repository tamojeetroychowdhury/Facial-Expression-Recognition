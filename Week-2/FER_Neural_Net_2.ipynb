{
  "nbformat": 4,
  "nbformat_minor": 0,
  "metadata": {
    "colab": {
      "provenance": [],
      "authorship_tag": "ABX9TyNA+C8x/Hs8p7IR1ulSU8mf",
      "include_colab_link": true
    },
    "kernelspec": {
      "name": "python3",
      "display_name": "Python 3"
    },
    "language_info": {
      "name": "python"
    }
  },
  "cells": [
    {
      "cell_type": "markdown",
      "metadata": {
        "id": "view-in-github",
        "colab_type": "text"
      },
      "source": [
        "<a href=\"https://colab.research.google.com/github/tamojeetroychowdhury/Facial-Expression-Recognition/blob/main/Week-2/FER_Neural_Net_2.ipynb\" target=\"_parent\"><img src=\"https://colab.research.google.com/assets/colab-badge.svg\" alt=\"Open In Colab\"/></a>"
      ]
    },
    {
      "cell_type": "code",
      "source": [
        "from google.colab import drive\n",
        "drive.mount('/content/gdrive')"
      ],
      "metadata": {
        "colab": {
          "base_uri": "https://localhost:8080/"
        },
        "id": "XqmuwRGrBA9B",
        "outputId": "d6b2af8b-2647-4c7b-ff2c-b17cd43aead6"
      },
      "execution_count": 1,
      "outputs": [
        {
          "output_type": "stream",
          "name": "stdout",
          "text": [
            "Mounted at /content/gdrive\n"
          ]
        }
      ]
    },
    {
      "cell_type": "code",
      "execution_count": 2,
      "metadata": {
        "id": "UXckMDJsA2U8"
      },
      "outputs": [],
      "source": [
        "import numpy as np # linear algebra\n",
        "import pandas as pd # data processing, CSV file I/O (e.g. pd.read_csv)\n",
        "import torch\n",
        "import torch.nn as nn\n",
        "import torch.nn.functional as F\n",
        "import torchvision\n",
        "import torchvision.transforms as transforms\n",
        "import matplotlib.pyplot as plt\n",
        "\n",
        "df = pd.read_csv('gdrive/My Drive/fer2013.csv')"
      ]
    },
    {
      "cell_type": "code",
      "source": [
        "df = df.drop(df[df.emotion == 1].index)"
      ],
      "metadata": {
        "id": "jMjFNkfjXNVa"
      },
      "execution_count": 3,
      "outputs": []
    },
    {
      "cell_type": "code",
      "source": [
        "all_labels = np.array(df['emotion'][:35000])\n",
        "all_labels[np.where(all_labels == 6)] = 1   \n",
        "all_labels = torch.tensor(all_labels)\n",
        "#labels_wo_1 = all_labels[np.where(all_labels != 1)]"
      ],
      "metadata": {
        "id": "JZS-Y46mBd9k"
      },
      "execution_count": 37,
      "outputs": []
    },
    {
      "cell_type": "code",
      "source": [
        "len(all_labels)"
      ],
      "metadata": {
        "colab": {
          "base_uri": "https://localhost:8080/"
        },
        "id": "d7K542ivHAdP",
        "outputId": "f8e7a9be-c8af-4160-8803-3ff409148831"
      },
      "execution_count": 36,
      "outputs": [
        {
          "output_type": "execute_result",
          "data": {
            "text/plain": [
              "35000"
            ]
          },
          "metadata": {},
          "execution_count": 36
        }
      ]
    },
    {
      "cell_type": "code",
      "source": [
        "ds = []\n",
        "for s in df['pixels'][:35000]:\n",
        "    m = s.split()\n",
        "    l = np.zeros((48,48))\n",
        "    for i in range(len(m)):\n",
        "        n = int(m[i])\n",
        "        l[i//48][i%48] = n\n",
        "    ds.append([l])"
      ],
      "metadata": {
        "id": "tZCphk5JBlT1"
      },
      "execution_count": 5,
      "outputs": []
    },
    {
      "cell_type": "code",
      "source": [
        "ds = np.array(ds, dtype = np.float32)\n",
        "dataset = torch.tensor(ds)\n",
        "#dataset.view(10000,1,48,48)\n",
        "dataset.shape"
      ],
      "metadata": {
        "colab": {
          "base_uri": "https://localhost:8080/"
        },
        "id": "Uaa61v-cBo6s",
        "outputId": "efd8b63b-ee7c-4578-f8ff-ba84d57fdb5c"
      },
      "execution_count": 6,
      "outputs": [
        {
          "output_type": "execute_result",
          "data": {
            "text/plain": [
              "torch.Size([35000, 1, 48, 48])"
            ]
          },
          "metadata": {},
          "execution_count": 6
        }
      ]
    },
    {
      "cell_type": "code",
      "source": [
        "device = torch.device('cuda' if torch.cuda.is_available() else 'cpu')"
      ],
      "metadata": {
        "id": "xTeKMiXECXu6"
      },
      "execution_count": 7,
      "outputs": []
    },
    {
      "cell_type": "code",
      "source": [
        "input_size = 2304\n",
        "hidden_size = 500 \n",
        "num_classes = 10\n",
        "num_epochs = 3\n",
        "batch_size = 2000\n",
        "learning_rate = 0.001\n",
        "\n",
        "class NeuralNet(nn.Module):\n",
        "    def __init__(self):\n",
        "        super(NeuralNet, self).__init__()\n",
        "        ## Layer 1\n",
        "        self.conv1 = nn.Conv2d(1, 20, 5)\n",
        "        self.pool = nn.MaxPool2d(2, 2)\n",
        "        self.conv2 = nn.Conv2d(20, 30, 5)\n",
        "        #self.pool2 = nn.MaxPool2d(2, 1)\n",
        "        #self.conv3 = nn.Conv2d(50, 30, 4)\n",
        "        self.fc1 = nn.Linear(30 * 9 * 9, 90)\n",
        "        #self.fc2 = nn.Linear(120, 84)\n",
        "        self.fc3 = nn.Linear(90, 6)\n",
        "\n",
        "    def forward(self, x):\n",
        "        #Layer 1\n",
        "        x = self.pool(F.relu(self.conv1(x)))  # -> n, 6, 14, 14\n",
        "        x = self.pool(F.relu(self.conv2(x)))\n",
        "        #x = self.pool(F.relu(self.conv3(x)))  # -> n, 16, 5, 5\n",
        "        x = x.view(-1, 30 * 9 * 9)            # -> n, 400\n",
        "        x = F.relu(self.fc1(x))               # -> n, 120\n",
        "        #x = F.relu(self.fc2(x))               # -> n, 84\n",
        "        x = self.fc3(x)                       # -> n, 10\n",
        "        return x"
      ],
      "metadata": {
        "id": "w97XQMIcC4j3"
      },
      "execution_count": 69,
      "outputs": []
    },
    {
      "cell_type": "code",
      "source": [
        "model = NeuralNet().to(device)\n",
        "\n",
        "# Loss and optimizer\n",
        "criterion = nn.CrossEntropyLoss()\n",
        "optimizer = torch.optim.Adam(model.parameters(), lr=learning_rate)"
      ],
      "metadata": {
        "id": "GGjg07HIEEmL"
      },
      "execution_count": 56,
      "outputs": []
    },
    {
      "cell_type": "code",
      "source": [
        "batch_size = 5000\n",
        "\n",
        "for epoch in range(num_epochs):\n",
        "    for i in range(0,30000,batch_size):\n",
        "        images = dataset[i:i + batch_size] \n",
        "        labels = all_labels[i:i + batch_size] \n",
        "        # origin shape: [100, 1, 28, 28]\n",
        "        # resized: [100, 784]\n",
        "        #images = images.reshape(-1, 28*28).to(device)\n",
        "        labels = labels.to(device)\n",
        "        \n",
        "        # Forward pass\n",
        "        outputs = model(images)\n",
        "        loss = criterion(outputs, labels)\n",
        "        \n",
        "        # Backward and optimize\n",
        "        optimizer.zero_grad()\n",
        "        loss.backward()\n",
        "        optimizer.step()\n",
        "        \n",
        "        #if (i+1) % 100 == 0:\n",
        "        print (f'Epoch [{epoch+1}/{num_epochs}], Step [{int(i/batch_size + 1)}], Loss: {loss.item():.4f}')"
      ],
      "metadata": {
        "id": "Imi_a9jMEgb-",
        "colab": {
          "base_uri": "https://localhost:8080/"
        },
        "outputId": "791f64cb-5807-4a3d-821c-feed5a3511a4"
      },
      "execution_count": 70,
      "outputs": [
        {
          "output_type": "stream",
          "name": "stdout",
          "text": [
            "Epoch [1/3], Step [1], Loss: 1.3279\n",
            "Epoch [1/3], Step [2], Loss: 1.2930\n",
            "Epoch [1/3], Step [3], Loss: 1.3263\n",
            "Epoch [1/3], Step [4], Loss: 1.3070\n",
            "Epoch [1/3], Step [5], Loss: 1.3025\n",
            "Epoch [1/3], Step [6], Loss: 1.2816\n",
            "Epoch [2/3], Step [1], Loss: 1.3125\n",
            "Epoch [2/3], Step [2], Loss: 1.2775\n",
            "Epoch [2/3], Step [3], Loss: 1.3215\n",
            "Epoch [2/3], Step [4], Loss: 1.2783\n",
            "Epoch [2/3], Step [5], Loss: 1.2807\n",
            "Epoch [2/3], Step [6], Loss: 1.2755\n",
            "Epoch [3/3], Step [1], Loss: 1.2935\n",
            "Epoch [3/3], Step [2], Loss: 1.2625\n",
            "Epoch [3/3], Step [3], Loss: 1.2977\n",
            "Epoch [3/3], Step [4], Loss: 1.2610\n",
            "Epoch [3/3], Step [5], Loss: 1.2645\n",
            "Epoch [3/3], Step [6], Loss: 1.2519\n"
          ]
        }
      ]
    },
    {
      "cell_type": "code",
      "source": [
        "with torch.no_grad():\n",
        "    n_correct = 0\n",
        "    n_samples = 0\n",
        "    for i in range(30000, 35000, batch_size):\n",
        "        #images = images.reshape(-1, 28*28).to(device)\n",
        "        images = dataset[i:i + batch_size] \n",
        "        labels = all_labels[i:i + batch_size] \n",
        "        outputs = model(images)\n",
        "        # max returns (value ,index)\n",
        "        _, predicted = torch.max(outputs.data, 1)\n",
        "        n_samples += labels.size(0)\n",
        "        n_correct += (predicted == labels).sum().item()\n",
        "\n",
        "    acc = 100.0 * n_correct / n_samples\n",
        "    print(f'Accuracy of the network on the 10000 test images: {acc} %')"
      ],
      "metadata": {
        "colab": {
          "base_uri": "https://localhost:8080/"
        },
        "id": "sPR3-AbWGSxS",
        "outputId": "06e5b7eb-9979-4862-dd86-58413edca7ae"
      },
      "execution_count": 71,
      "outputs": [
        {
          "output_type": "stream",
          "name": "stdout",
          "text": [
            "Accuracy of the network on the 10000 test images: 45.12 %\n"
          ]
        }
      ]
    },
    {
      "cell_type": "markdown",
      "source": [
        "Epochs done = 21"
      ],
      "metadata": {
        "id": "rFdlX6gXy8jU"
      }
    }
  ]
}