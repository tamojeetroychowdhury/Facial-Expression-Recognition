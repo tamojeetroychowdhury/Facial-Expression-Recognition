{
  "nbformat": 4,
  "nbformat_minor": 0,
  "metadata": {
    "colab": {
      "provenance": [],
      "authorship_tag": "ABX9TyPAyw/IgTZjZtyPMYsau9Eq",
      "include_colab_link": true
    },
    "kernelspec": {
      "name": "python3",
      "display_name": "Python 3"
    },
    "language_info": {
      "name": "python"
    }
  },
  "cells": [
    {
      "cell_type": "markdown",
      "metadata": {
        "id": "view-in-github",
        "colab_type": "text"
      },
      "source": [
        "<a href=\"https://colab.research.google.com/github/tamojeetroychowdhury/Facial-Expression-Recognition/blob/main/Week-1/Logistic_Regression_Gaia_Data.ipynb\" target=\"_parent\"><img src=\"https://colab.research.google.com/assets/colab-badge.svg\" alt=\"Open In Colab\"/></a>"
      ]
    },
    {
      "cell_type": "code",
      "source": [
        "!pip install astroquery"
      ],
      "metadata": {
        "colab": {
          "base_uri": "https://localhost:8080/"
        },
        "id": "X3LF9x-VKFbE",
        "outputId": "39abf2dd-c192-4a5c-df4d-86e2b8a749cd"
      },
      "execution_count": 6,
      "outputs": [
        {
          "output_type": "stream",
          "name": "stdout",
          "text": [
            "Looking in indexes: https://pypi.org/simple, https://us-python.pkg.dev/colab-wheels/public/simple/\n",
            "Collecting astroquery\n",
            "  Downloading astroquery-0.4.6-py3-none-any.whl (4.5 MB)\n",
            "\u001b[K     |████████████████████████████████| 4.5 MB 4.8 MB/s \n",
            "\u001b[?25hRequirement already satisfied: beautifulsoup4>=4.3.2 in /usr/local/lib/python3.8/dist-packages (from astroquery) (4.6.3)\n",
            "Requirement already satisfied: astropy>=4.0 in /usr/local/lib/python3.8/dist-packages (from astroquery) (4.3.1)\n",
            "Requirement already satisfied: numpy>=1.16 in /usr/local/lib/python3.8/dist-packages (from astroquery) (1.21.6)\n",
            "Requirement already satisfied: requests>=2.4.3 in /usr/local/lib/python3.8/dist-packages (from astroquery) (2.23.0)\n",
            "Collecting pyvo>=1.1\n",
            "  Downloading pyvo-1.4-py3-none-any.whl (885 kB)\n",
            "\u001b[K     |████████████████████████████████| 885 kB 57.5 MB/s \n",
            "\u001b[?25hCollecting keyring>=4.0\n",
            "  Downloading keyring-23.11.0-py3-none-any.whl (36 kB)\n",
            "Requirement already satisfied: html5lib>=0.999 in /usr/local/lib/python3.8/dist-packages (from astroquery) (1.0.1)\n",
            "Requirement already satisfied: pyerfa>=1.7.3 in /usr/local/lib/python3.8/dist-packages (from astropy>=4.0->astroquery) (2.0.0.1)\n",
            "Requirement already satisfied: webencodings in /usr/local/lib/python3.8/dist-packages (from html5lib>=0.999->astroquery) (0.5.1)\n",
            "Requirement already satisfied: six>=1.9 in /usr/local/lib/python3.8/dist-packages (from html5lib>=0.999->astroquery) (1.15.0)\n",
            "Collecting SecretStorage>=3.2\n",
            "  Downloading SecretStorage-3.3.3-py3-none-any.whl (15 kB)\n",
            "Collecting jeepney>=0.4.2\n",
            "  Downloading jeepney-0.8.0-py3-none-any.whl (48 kB)\n",
            "\u001b[K     |████████████████████████████████| 48 kB 5.5 MB/s \n",
            "\u001b[?25hCollecting jaraco.classes\n",
            "  Downloading jaraco.classes-3.2.3-py3-none-any.whl (6.0 kB)\n",
            "Requirement already satisfied: importlib-metadata>=4.11.4 in /usr/local/lib/python3.8/dist-packages (from keyring>=4.0->astroquery) (5.1.0)\n",
            "Requirement already satisfied: zipp>=0.5 in /usr/local/lib/python3.8/dist-packages (from importlib-metadata>=4.11.4->keyring>=4.0->astroquery) (3.11.0)\n",
            "Requirement already satisfied: urllib3!=1.25.0,!=1.25.1,<1.26,>=1.21.1 in /usr/local/lib/python3.8/dist-packages (from requests>=2.4.3->astroquery) (1.24.3)\n",
            "Requirement already satisfied: certifi>=2017.4.17 in /usr/local/lib/python3.8/dist-packages (from requests>=2.4.3->astroquery) (2022.12.7)\n",
            "Requirement already satisfied: chardet<4,>=3.0.2 in /usr/local/lib/python3.8/dist-packages (from requests>=2.4.3->astroquery) (3.0.4)\n",
            "Requirement already satisfied: idna<3,>=2.5 in /usr/local/lib/python3.8/dist-packages (from requests>=2.4.3->astroquery) (2.10)\n",
            "Collecting cryptography>=2.0\n",
            "  Downloading cryptography-38.0.4-cp36-abi3-manylinux_2_24_x86_64.whl (4.0 MB)\n",
            "\u001b[K     |████████████████████████████████| 4.0 MB 50.1 MB/s \n",
            "\u001b[?25hRequirement already satisfied: cffi>=1.12 in /usr/local/lib/python3.8/dist-packages (from cryptography>=2.0->SecretStorage>=3.2->keyring>=4.0->astroquery) (1.15.1)\n",
            "Requirement already satisfied: pycparser in /usr/local/lib/python3.8/dist-packages (from cffi>=1.12->cryptography>=2.0->SecretStorage>=3.2->keyring>=4.0->astroquery) (2.21)\n",
            "Requirement already satisfied: more-itertools in /usr/local/lib/python3.8/dist-packages (from jaraco.classes->keyring>=4.0->astroquery) (9.0.0)\n",
            "Installing collected packages: jeepney, cryptography, SecretStorage, jaraco.classes, pyvo, keyring, astroquery\n",
            "Successfully installed SecretStorage-3.3.3 astroquery-0.4.6 cryptography-38.0.4 jaraco.classes-3.2.3 jeepney-0.8.0 keyring-23.11.0 pyvo-1.4\n"
          ]
        }
      ]
    },
    {
      "cell_type": "code",
      "source": [
        "import astropy.units as u\n",
        "from astroquery.gaia import Gaia\n",
        "import matplotlib.pyplot as plt\n",
        "import torch\n",
        "import torch.nn as nn\n",
        "import numpy as np\n",
        "from sklearn import datasets\n",
        "from sklearn.preprocessing import StandardScaler\n",
        "from sklearn.model_selection import train_test_split"
      ],
      "metadata": {
        "id": "BUopUggcKBPf"
      },
      "execution_count": 8,
      "outputs": []
    },
    {
      "cell_type": "code",
      "source": [
        "#Nearest 5000 stars\n",
        "query = '''select top 5000 g.source_id, g.parallax, g.phot_g_mean_mag, g.phot_bp_mean_mag, phot_rp_mean_mag, \n",
        "h.classprob_dsc_combmod_star as star_prob, h.classprob_dsc_combmod_whitedwarf as wd_prob\n",
        "from gaiadr3.gaia_source as g, gaiadr3.astrophysical_parameters as h \n",
        "where g.source_id = h.source_id \n",
        "and g.source_id is not null and g.parallax is not null and g.phot_g_mean_mag is not null and g.phot_bp_mean_mag is not null\n",
        "and g.phot_rp_mean_mag is not null\n",
        "and h.classprob_dsc_combmod_star is not null\n",
        "and h.classprob_dsc_combmod_whitedwarf is not null\n",
        "and g.parallax > 10\n",
        "and g.parallax_over_error > 100\n",
        "order by g.parallax desc'''\n",
        "\n",
        "job = Gaia.launch_job_async(query)\n",
        "r = job.get_results()\n",
        "\n",
        "appmags = r['phot_g_mean_mag']\n",
        "dist = 1000*np.reciprocal(r['parallax'])\n",
        "\n",
        "abmags = appmags + 5 - 5*np.log10(dist)\n",
        "#temps = r['teff_gspphot']\n",
        "g = r['phot_bp_mean_mag'] - r['phot_rp_mean_mag']\n",
        "\n",
        "\n",
        "plt.figure(figsize=(8,9))\n",
        "plt.scatter(g,abmags,s=1)\n",
        "plt.ylim(-10,20)\n",
        "#plt.xlim(1000,30000)\n",
        "plt.xlim(-1,4)\n",
        "#plt.gca().invert_xaxis()\n",
        "plt.gca().invert_yaxis()\n",
        "plt.xlabel('Temperature (BP-RP)')\n",
        "plt.ylabel('Absolute Magnitude')\n",
        "plt.title('M67 without parallax filter')\n",
        "plt.show()"
      ],
      "metadata": {
        "colab": {
          "base_uri": "https://localhost:8080/",
          "height": 602
        },
        "id": "MdCYVAb8KBCc",
        "outputId": "003294ed-d612-4bf0-ed33-d339361621b6"
      },
      "execution_count": 60,
      "outputs": [
        {
          "output_type": "stream",
          "name": "stderr",
          "text": [
            "INFO:astroquery:Query finished.\n"
          ]
        },
        {
          "output_type": "stream",
          "name": "stdout",
          "text": [
            "INFO: Query finished. [astroquery.utils.tap.core]\n"
          ]
        },
        {
          "output_type": "display_data",
          "data": {
            "text/plain": [
              "<Figure size 576x648 with 1 Axes>"
            ],
            "image/png": "[encoded data removed]"
          },
          "metadata": {
            "needs_background": "light"
          }
        }
      ]
    },
    {
      "cell_type": "code",
      "source": [
        "len(r)"
      ],
      "metadata": {
        "colab": {
          "base_uri": "https://localhost:8080/"
        },
        "id": "s4gcL_nXMKxw",
        "outputId": "eb9e2142-4fa5-4e90-e2ab-84fe218d44d7"
      },
      "execution_count": 61,
      "outputs": [
        {
          "output_type": "execute_result",
          "data": {
            "text/plain": [
              "5000"
            ]
          },
          "metadata": {},
          "execution_count": 61
        }
      ]
    },
    {
      "cell_type": "code",
      "source": [
        "X = []\n",
        "y = []\n",
        "for i in range(len(r)):\n",
        "  X.append([abmags[i],r['phot_rp_mean_mag'][i],r['phot_bp_mean_mag'][i]])\n",
        "  if r['star_prob'][i] > r['wd_prob'][i]:\n",
        "    y.append(0)\n",
        "  else:\n",
        "    y.append(1)\n",
        "X = np.array(X)\n",
        "y = np.array(y)"
      ],
      "metadata": {
        "id": "k-o3BYNNKA-_"
      },
      "execution_count": 69,
      "outputs": []
    },
    {
      "cell_type": "code",
      "source": [
        "X.shape"
      ],
      "metadata": {
        "colab": {
          "base_uri": "https://localhost:8080/"
        },
        "id": "28HFg_mgO55F",
        "outputId": "cabe93e2-35b2-4b75-d46e-e13697897782"
      },
      "execution_count": 70,
      "outputs": [
        {
          "output_type": "execute_result",
          "data": {
            "text/plain": [
              "(5000, 3)"
            ]
          },
          "metadata": {},
          "execution_count": 70
        }
      ]
    },
    {
      "cell_type": "code",
      "execution_count": 78,
      "metadata": {
        "colab": {
          "base_uri": "https://localhost:8080/"
        },
        "id": "lgZnVxPMI9u0",
        "outputId": "9b655d63-23a5-4856-ea20-37c9065eee7a"
      },
      "outputs": [
        {
          "output_type": "stream",
          "name": "stdout",
          "text": [
            "epoch: 10, loss = 0.5803\n",
            "epoch: 20, loss = 0.5641\n",
            "epoch: 30, loss = 0.5487\n",
            "epoch: 40, loss = 0.5340\n",
            "epoch: 50, loss = 0.5200\n",
            "epoch: 60, loss = 0.5067\n",
            "epoch: 70, loss = 0.4940\n",
            "epoch: 80, loss = 0.4819\n",
            "epoch: 90, loss = 0.4704\n",
            "epoch: 100, loss = 0.4593\n",
            "accuracy: 0.9730\n"
          ]
        }
      ],
      "source": [
        "# 0) Prepare data\n",
        "\n",
        "n_samples, n_features = X.shape\n",
        "#n_samples, n_features = 5000,3\n",
        "\n",
        "X_train, X_test, y_train, y_test = train_test_split(X, y, test_size=0.2, random_state=1234)\n",
        "\n",
        "# scale\n",
        "sc = StandardScaler()\n",
        "X_train = sc.fit_transform(X_train)\n",
        "X_test = sc.transform(X_test)\n",
        "\n",
        "X_train = torch.from_numpy(X_train.astype(np.float32))\n",
        "X_test = torch.from_numpy(X_test.astype(np.float32))\n",
        "y_train = torch.from_numpy(y_train.astype(np.float32))\n",
        "y_test = torch.from_numpy(y_test.astype(np.float32))\n",
        "\n",
        "y_train = y_train.view(y_train.shape[0], 1)\n",
        "y_test = y_test.view(y_test.shape[0], 1)\n",
        "\n",
        "# 1) Model\n",
        "# Linear model f = wx + b , sigmoid at the end\n",
        "class Model(nn.Module):\n",
        "    def __init__(self, n_input_features):\n",
        "        super(Model, self).__init__()\n",
        "        self.linear = nn.Linear(n_input_features, 1)\n",
        "\n",
        "    def forward(self, x):\n",
        "        y_pred = torch.sigmoid(self.linear(x))\n",
        "        return y_pred\n",
        "\n",
        "model = Model(n_features)\n",
        "\n",
        "# 2) Loss and optimizer\n",
        "num_epochs = 100\n",
        "learning_rate = 0.01\n",
        "criterion = nn.BCELoss()\n",
        "optimizer = torch.optim.SGD(model.parameters(), lr=learning_rate)\n",
        "\n",
        "# 3) Training loop\n",
        "for epoch in range(num_epochs):\n",
        "    # Forward pass and loss\n",
        "    y_pred = model(X_train)\n",
        "    loss = criterion(y_pred, y_train)\n",
        "\n",
        "    # Backward pass and update\n",
        "    loss.backward()\n",
        "    optimizer.step()\n",
        "\n",
        "    # zero grad before new step\n",
        "    optimizer.zero_grad()\n",
        "\n",
        "    if (epoch+1) % 10 == 0:\n",
        "        print(f'epoch: {epoch+1}, loss = {loss.item():.4f}')\n",
        "\n",
        "\n",
        "with torch.no_grad():\n",
        "    y_predicted = model(X_test)\n",
        "    y_predicted_cls = y_predicted.round()\n",
        "    acc = y_predicted_cls.eq(y_test).sum() / float(y_test.shape[0])\n",
        "    print(f'accuracy: {acc.item():.4f}')"
      ]
    },
    {
      "cell_type": "code",
      "source": [
        "# 0) Prepare data\n",
        "\n",
        "n_samples, n_features = X.shape\n",
        "#n_samples, n_features = 5000,3\n",
        "\n",
        "X_train, X_test, y_train, y_test = train_test_split(X, y, test_size=0.2, random_state=1234)\n",
        "\n",
        "# scale\n",
        "sc = StandardScaler()\n",
        "X_train = sc.fit_transform(X_train)\n",
        "X_test = sc.transform(X_test)\n",
        "\n",
        "X_train = torch.from_numpy(X_train.astype(np.float32))\n",
        "X_test = torch.from_numpy(X_test.astype(np.float32))\n",
        "y_train = torch.from_numpy(y_train.astype(np.float32))\n",
        "y_test = torch.from_numpy(y_test.astype(np.float32))\n",
        "\n",
        "y_train = y_train.view(y_train.shape[0], 1)\n",
        "y_test = y_test.view(y_test.shape[0], 1)\n",
        "\n",
        "# 1) Model\n",
        "# Linear model f = wx + b , sigmoid at the end\n",
        "class Model(nn.Module):\n",
        "    def __init__(self, n_input_features):\n",
        "        super(Model, self).__init__()\n",
        "        self.linear = nn.Linear(n_input_features, 1)\n",
        "\n",
        "    def forward(self, x):\n",
        "        y_pred = torch.sigmoid(self.linear(x))\n",
        "        return y_pred\n",
        "\n",
        "model = Model(n_features)\n",
        "\n",
        "# 2) Loss and optimizer\n",
        "num_epochs = 100\n",
        "learning_rate = 0.01\n",
        "criterion = nn.BCELoss()\n",
        "optimizer = torch.optim.SGD(model.parameters(), lr=learning_rate)\n",
        "\n",
        "# 3) Training loop\n",
        "for epoch in range(num_epochs):\n",
        "    # Forward pass and loss\n",
        "    y_pred = model(X_train)\n",
        "    loss = criterion(y_pred, y_train)\n",
        "\n",
        "    # Backward pass and update\n",
        "    loss.backward()\n",
        "    optimizer.step()\n",
        "\n",
        "    # zero grad before new step\n",
        "    optimizer.zero_grad()\n",
        "\n",
        "    if (epoch+1) % 10 == 0:\n",
        "        print(f'epoch: {epoch+1}, loss = {loss.item():.4f}')\n",
        "\n",
        "\n",
        "with torch.no_grad():\n",
        "    y_predicted = model(X_test)\n",
        "    y_predicted_cls = y_predicted.round()\n",
        "    acc = y_predicted_cls.eq(y_test).sum() / float(y_test.shape[0])\n",
        "    print(f'accuracy: {acc.item():.4f}')"
      ],
      "metadata": {
        "colab": {
          "base_uri": "https://localhost:8080/"
        },
        "id": "35A_bTY5Jggq",
        "outputId": "cd31a201-82c8-45cb-e619-4bd3fab2799f"
      },
      "execution_count": 76,
      "outputs": [
        {
          "output_type": "stream",
          "name": "stdout",
          "text": [
            "epoch: 10, loss = 0.6885\n",
            "epoch: 20, loss = 0.6613\n",
            "epoch: 30, loss = 0.6359\n",
            "epoch: 40, loss = 0.6122\n",
            "epoch: 50, loss = 0.5902\n",
            "epoch: 60, loss = 0.5697\n",
            "epoch: 70, loss = 0.5506\n",
            "epoch: 80, loss = 0.5328\n",
            "epoch: 90, loss = 0.5163\n",
            "epoch: 100, loss = 0.5008\n",
            "accuracy: 0.8700\n"
          ]
        }
      ]
    }
  ]
}